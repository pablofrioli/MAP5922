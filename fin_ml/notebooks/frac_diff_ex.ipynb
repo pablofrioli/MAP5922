{
 "cells": [
  {
   "cell_type": "markdown",
   "id": "00f13cb4",
   "metadata": {},
   "source": [
    "# Fraction Differentiation - frac_diff_transf.py"
   ]
  },
  {
   "cell_type": "markdown",
   "id": "0efffe0d",
   "metadata": {},
   "source": [
    "## Importing Libraries"
   ]
  },
  {
   "cell_type": "code",
   "execution_count": 11,
   "id": "9ef119e2",
   "metadata": {},
   "outputs": [],
   "source": [
    "import pandas as pd\n",
    "import numpy as np\n",
    "from fin_ml.transformers import frac_diff_transf"
   ]
  },
  {
   "cell_type": "markdown",
   "id": "049580dc",
   "metadata": {},
   "source": [
    "## Creating the DataFrame"
   ]
  },
  {
   "cell_type": "code",
   "execution_count": 12,
   "id": "b2f294ee",
   "metadata": {},
   "outputs": [],
   "source": [
    "lenght = int(1e3)\n",
    "# creating series from a Normal distribution for the returns\n",
    "df_ret1 = pd.Series(np.random.normal(0.0, 0.01,lenght))\n",
    "df_ret2 = pd.Series(np.random.normal(0.0, 0.02,lenght))\n",
    "# creating the price series\n",
    "df_price1 = (1 + df_ret1).cumprod()\n",
    "df_price2 = (1 + df_ret2).cumprod()\n",
    "# concatenating the series into a DataFrame\n",
    "X = pd.concat([df_price1, df_price2],axis = 1)\n",
    "X = X.rename(columns={0:'X1', 1:'X2'})"
   ]
  },
  {
   "cell_type": "markdown",
   "id": "3eaf47c8",
   "metadata": {},
   "source": [
    "## Fractional Differentiating"
   ]
  },
  {
   "cell_type": "code",
   "execution_count": 13,
   "id": "05ef5765",
   "metadata": {},
   "outputs": [
    {
     "data": {
      "text/html": [
       "<div>\n",
       "<style scoped>\n",
       "    .dataframe tbody tr th:only-of-type {\n",
       "        vertical-align: middle;\n",
       "    }\n",
       "\n",
       "    .dataframe tbody tr th {\n",
       "        vertical-align: top;\n",
       "    }\n",
       "\n",
       "    .dataframe thead th {\n",
       "        text-align: right;\n",
       "    }\n",
       "</style>\n",
       "<table border=\"1\" class=\"dataframe\">\n",
       "  <thead>\n",
       "    <tr style=\"text-align: right;\">\n",
       "      <th></th>\n",
       "      <th>X1_fd</th>\n",
       "      <th>X2_fd</th>\n",
       "    </tr>\n",
       "  </thead>\n",
       "  <tbody>\n",
       "    <tr>\n",
       "      <th>8</th>\n",
       "      <td>0.759075</td>\n",
       "      <td>NaN</td>\n",
       "    </tr>\n",
       "    <tr>\n",
       "      <th>9</th>\n",
       "      <td>0.762970</td>\n",
       "      <td>NaN</td>\n",
       "    </tr>\n",
       "    <tr>\n",
       "      <th>10</th>\n",
       "      <td>0.759891</td>\n",
       "      <td>NaN</td>\n",
       "    </tr>\n",
       "    <tr>\n",
       "      <th>11</th>\n",
       "      <td>0.752608</td>\n",
       "      <td>NaN</td>\n",
       "    </tr>\n",
       "    <tr>\n",
       "      <th>12</th>\n",
       "      <td>0.767272</td>\n",
       "      <td>0.355979</td>\n",
       "    </tr>\n",
       "    <tr>\n",
       "      <th>13</th>\n",
       "      <td>0.757845</td>\n",
       "      <td>0.362304</td>\n",
       "    </tr>\n",
       "    <tr>\n",
       "      <th>14</th>\n",
       "      <td>0.765371</td>\n",
       "      <td>0.383963</td>\n",
       "    </tr>\n",
       "    <tr>\n",
       "      <th>15</th>\n",
       "      <td>0.759412</td>\n",
       "      <td>0.398508</td>\n",
       "    </tr>\n",
       "    <tr>\n",
       "      <th>16</th>\n",
       "      <td>0.761765</td>\n",
       "      <td>0.410592</td>\n",
       "    </tr>\n",
       "    <tr>\n",
       "      <th>17</th>\n",
       "      <td>0.770295</td>\n",
       "      <td>0.447859</td>\n",
       "    </tr>\n",
       "  </tbody>\n",
       "</table>\n",
       "</div>"
      ],
      "text/plain": [
       "       X1_fd     X2_fd\n",
       "8   0.759075       NaN\n",
       "9   0.762970       NaN\n",
       "10  0.759891       NaN\n",
       "11  0.752608       NaN\n",
       "12  0.767272  0.355979\n",
       "13  0.757845  0.362304\n",
       "14  0.765371  0.383963\n",
       "15  0.759412  0.398508\n",
       "16  0.761765  0.410592\n",
       "17  0.770295  0.447859"
      ]
     },
     "execution_count": 13,
     "metadata": {},
     "output_type": "execute_result"
    }
   ],
   "source": [
    "# Instantiating the FracDiff transformer\n",
    "data_processor = frac_diff_transf.FracDiff(minimum = True)\n",
    "# Transforming the Data\n",
    "X_transf = data_processor.transform(X)\n",
    "X_transf.head(10)"
   ]
  }
 ],
 "metadata": {
  "kernelspec": {
   "display_name": "Python 3 (ipykernel)",
   "language": "python",
   "name": "python3"
  },
  "language_info": {
   "codemirror_mode": {
    "name": "ipython",
    "version": 3
   },
   "file_extension": ".py",
   "mimetype": "text/x-python",
   "name": "python",
   "nbconvert_exporter": "python",
   "pygments_lexer": "ipython3",
   "version": "3.9.6"
  },
  "toc": {
   "base_numbering": 1,
   "nav_menu": {},
   "number_sections": true,
   "sideBar": true,
   "skip_h1_title": false,
   "title_cell": "Table of Contents",
   "title_sidebar": "Contents",
   "toc_cell": false,
   "toc_position": {},
   "toc_section_display": true,
   "toc_window_display": false
  }
 },
 "nbformat": 4,
 "nbformat_minor": 5
}
