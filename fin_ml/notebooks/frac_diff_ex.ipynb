{
 "cells": [
  {
   "cell_type": "markdown",
   "id": "bc83c2c7",
   "metadata": {},
   "source": [
    "# Fraction Differentiation - frac_diff_transf.py"
   ]
  },
  {
   "cell_type": "markdown",
   "id": "73cd304b",
   "metadata": {},
   "source": [
    "## Importing Libraries"
   ]
  },
  {
   "cell_type": "code",
   "execution_count": 1,
   "id": "9ef119e2",
   "metadata": {},
   "outputs": [],
   "source": [
    "import pandas as pd\n",
    "import numpy as np\n",
    "from fin_ml.transformers import frac_diff_transf"
   ]
  },
  {
   "cell_type": "markdown",
   "id": "75a63021",
   "metadata": {},
   "source": [
    "## Creating the DataFrame"
   ]
  },
  {
   "cell_type": "code",
   "execution_count": 2,
   "id": "b2f294ee",
   "metadata": {},
   "outputs": [],
   "source": [
    "lenght = int(1e3)\n",
    "# creating series from a Normal distribution for the returns\n",
    "df_ret1 = pd.Series(np.random.normal(0.0, 0.01,lenght))\n",
    "df_ret2 = pd.Series(np.random.normal(0.0, 0.02,lenght))\n",
    "# creating the price series\n",
    "df_price1 = (1 + df_ret1).cumprod()\n",
    "df_price2 = (1 + df_ret2).cumprod()\n",
    "# concatenating the series into a DataFrame\n",
    "X = pd.concat([df_price1, df_price2],axis = 1)\n",
    "X = X.rename(columns={0:'X1', 1:'X2'})"
   ]
  },
  {
   "cell_type": "markdown",
   "id": "8791e56f",
   "metadata": {},
   "source": [
    "## Fractional Differentiating"
   ]
  },
  {
   "cell_type": "code",
   "execution_count": 3,
   "id": "05ef5765",
   "metadata": {},
   "outputs": [
    {
     "data": {
      "text/html": [
       "<div>\n",
       "<style scoped>\n",
       "    .dataframe tbody tr th:only-of-type {\n",
       "        vertical-align: middle;\n",
       "    }\n",
       "\n",
       "    .dataframe tbody tr th {\n",
       "        vertical-align: top;\n",
       "    }\n",
       "\n",
       "    .dataframe thead th {\n",
       "        text-align: right;\n",
       "    }\n",
       "</style>\n",
       "<table border=\"1\" class=\"dataframe\">\n",
       "  <thead>\n",
       "    <tr style=\"text-align: right;\">\n",
       "      <th></th>\n",
       "      <th>X1_fd</th>\n",
       "      <th>X2_fd</th>\n",
       "    </tr>\n",
       "  </thead>\n",
       "  <tbody>\n",
       "    <tr>\n",
       "      <th>12</th>\n",
       "      <td>0.372746</td>\n",
       "      <td>1.077526</td>\n",
       "    </tr>\n",
       "    <tr>\n",
       "      <th>13</th>\n",
       "      <td>0.386978</td>\n",
       "      <td>1.074479</td>\n",
       "    </tr>\n",
       "    <tr>\n",
       "      <th>14</th>\n",
       "      <td>0.400694</td>\n",
       "      <td>1.080775</td>\n",
       "    </tr>\n",
       "    <tr>\n",
       "      <th>15</th>\n",
       "      <td>0.404026</td>\n",
       "      <td>1.075664</td>\n",
       "    </tr>\n",
       "    <tr>\n",
       "      <th>16</th>\n",
       "      <td>0.412193</td>\n",
       "      <td>1.053125</td>\n",
       "    </tr>\n",
       "    <tr>\n",
       "      <th>17</th>\n",
       "      <td>0.419789</td>\n",
       "      <td>1.030055</td>\n",
       "    </tr>\n",
       "    <tr>\n",
       "      <th>18</th>\n",
       "      <td>0.415273</td>\n",
       "      <td>1.043604</td>\n",
       "    </tr>\n",
       "    <tr>\n",
       "      <th>19</th>\n",
       "      <td>0.403292</td>\n",
       "      <td>1.038935</td>\n",
       "    </tr>\n",
       "    <tr>\n",
       "      <th>20</th>\n",
       "      <td>0.404711</td>\n",
       "      <td>1.044504</td>\n",
       "    </tr>\n",
       "    <tr>\n",
       "      <th>21</th>\n",
       "      <td>0.416031</td>\n",
       "      <td>0.999612</td>\n",
       "    </tr>\n",
       "  </tbody>\n",
       "</table>\n",
       "</div>"
      ],
      "text/plain": [
       "       X1_fd     X2_fd\n",
       "12  0.372746  1.077526\n",
       "13  0.386978  1.074479\n",
       "14  0.400694  1.080775\n",
       "15  0.404026  1.075664\n",
       "16  0.412193  1.053125\n",
       "17  0.419789  1.030055\n",
       "18  0.415273  1.043604\n",
       "19  0.403292  1.038935\n",
       "20  0.404711  1.044504\n",
       "21  0.416031  0.999612"
      ]
     },
     "execution_count": 3,
     "metadata": {},
     "output_type": "execute_result"
    }
   ],
   "source": [
    "# Instantiating the FracDiff transformer\n",
    "data_processor = frac_diff_transf.FracDiff(minimum = True)\n",
    "# Transforming the Data\n",
    "X_transf = data_processor.transform(X)\n",
    "X_transf.head(10)"
   ]
  },
  {
   "cell_type": "markdown",
   "id": "3dcc5624",
   "metadata": {},
   "source": [
    "#  Scikit-learn Pipeline for ColumnTransformer Using frac_diff_transf"
   ]
  },
  {
   "cell_type": "markdown",
   "id": "e37a0aa7",
   "metadata": {},
   "source": [
    "## Importing Additional Libraries"
   ]
  },
  {
   "cell_type": "code",
   "execution_count": 4,
   "id": "77de9701",
   "metadata": {},
   "outputs": [],
   "source": [
    "from sklearn.compose import ColumnTransformer\n",
    "from sklearn.pipeline import Pipeline"
   ]
  },
  {
   "cell_type": "markdown",
   "id": "7564f182",
   "metadata": {},
   "source": [
    "## Creating and Running Pipeline"
   ]
  },
  {
   "cell_type": "code",
   "execution_count": 8,
   "id": "62a30d98",
   "metadata": {},
   "outputs": [
    {
     "data": {
      "text/html": [
       "<div>\n",
       "<style scoped>\n",
       "    .dataframe tbody tr th:only-of-type {\n",
       "        vertical-align: middle;\n",
       "    }\n",
       "\n",
       "    .dataframe tbody tr th {\n",
       "        vertical-align: top;\n",
       "    }\n",
       "\n",
       "    .dataframe thead th {\n",
       "        text-align: right;\n",
       "    }\n",
       "</style>\n",
       "<table border=\"1\" class=\"dataframe\">\n",
       "  <thead>\n",
       "    <tr style=\"text-align: right;\">\n",
       "      <th></th>\n",
       "      <th>frac_diff__X1_fd</th>\n",
       "      <th>frac_diff__X2_fd</th>\n",
       "    </tr>\n",
       "  </thead>\n",
       "  <tbody>\n",
       "    <tr>\n",
       "      <th>12</th>\n",
       "      <td>0.372746</td>\n",
       "      <td>1.077526</td>\n",
       "    </tr>\n",
       "    <tr>\n",
       "      <th>13</th>\n",
       "      <td>0.386978</td>\n",
       "      <td>1.074479</td>\n",
       "    </tr>\n",
       "    <tr>\n",
       "      <th>14</th>\n",
       "      <td>0.400694</td>\n",
       "      <td>1.080775</td>\n",
       "    </tr>\n",
       "    <tr>\n",
       "      <th>15</th>\n",
       "      <td>0.404026</td>\n",
       "      <td>1.075664</td>\n",
       "    </tr>\n",
       "    <tr>\n",
       "      <th>16</th>\n",
       "      <td>0.412193</td>\n",
       "      <td>1.053125</td>\n",
       "    </tr>\n",
       "    <tr>\n",
       "      <th>17</th>\n",
       "      <td>0.419789</td>\n",
       "      <td>1.030055</td>\n",
       "    </tr>\n",
       "    <tr>\n",
       "      <th>18</th>\n",
       "      <td>0.415273</td>\n",
       "      <td>1.043604</td>\n",
       "    </tr>\n",
       "    <tr>\n",
       "      <th>19</th>\n",
       "      <td>0.403292</td>\n",
       "      <td>1.038935</td>\n",
       "    </tr>\n",
       "    <tr>\n",
       "      <th>20</th>\n",
       "      <td>0.404711</td>\n",
       "      <td>1.044504</td>\n",
       "    </tr>\n",
       "    <tr>\n",
       "      <th>21</th>\n",
       "      <td>0.416031</td>\n",
       "      <td>0.999612</td>\n",
       "    </tr>\n",
       "  </tbody>\n",
       "</table>\n",
       "</div>"
      ],
      "text/plain": [
       "    frac_diff__X1_fd  frac_diff__X2_fd\n",
       "12          0.372746          1.077526\n",
       "13          0.386978          1.074479\n",
       "14          0.400694          1.080775\n",
       "15          0.404026          1.075664\n",
       "16          0.412193          1.053125\n",
       "17          0.419789          1.030055\n",
       "18          0.415273          1.043604\n",
       "19          0.403292          1.038935\n",
       "20          0.404711          1.044504\n",
       "21          0.416031          0.999612"
      ]
     },
     "execution_count": 8,
     "metadata": {},
     "output_type": "execute_result"
    }
   ],
   "source": [
    "features = ['X1', 'X2']\n",
    "\n",
    "# instantiating the transformer\n",
    "transformer = frac_diff_transf.FracDiff(d = 1., \n",
    "                                        method = 'fww', \n",
    "                                        thres = 1e-2,\n",
    "                                        minimum = True,\n",
    "                                        min_dict = {'interv': [0., 1.], \n",
    "                                                    'step': 1e-1, \n",
    "                                                    'c_val_idx': int(1)})\n",
    "\n",
    "# pipeline for the transformer\n",
    "pipe_frac_diff = Pipeline([(\"frac_diff\", transformer)])\n",
    "                           \n",
    "# column transformer using the pipeline transformer\n",
    "pre_processor = ColumnTransformer([(\"frac_diff\", pipe_frac_diff, features)], remainder ='passthrough')\n",
    "\n",
    "# instantiating the pipeline of ColumnTransformer\n",
    "pipe = Pipeline([(\"pp\", pre_processor)])\n",
    "\n",
    "# trasnforming the series\n",
    "X_transf = pipe.fit_transform(X)\n",
    "X_transf.head(10)"
   ]
  },
  {
   "cell_type": "code",
   "execution_count": null,
   "id": "e21b6c9f",
   "metadata": {},
   "outputs": [],
   "source": []
  }
 ],
 "metadata": {
  "kernelspec": {
   "display_name": "Python 3 (ipykernel)",
   "language": "python",
   "name": "python3"
  },
  "language_info": {
   "codemirror_mode": {
    "name": "ipython",
    "version": 3
   },
   "file_extension": ".py",
   "mimetype": "text/x-python",
   "name": "python",
   "nbconvert_exporter": "python",
   "pygments_lexer": "ipython3",
   "version": "3.9.6"
  },
  "toc": {
   "base_numbering": 1,
   "nav_menu": {},
   "number_sections": true,
   "sideBar": true,
   "skip_h1_title": false,
   "title_cell": "Table of Contents",
   "title_sidebar": "Contents",
   "toc_cell": false,
   "toc_position": {},
   "toc_section_display": true,
   "toc_window_display": false
  }
 },
 "nbformat": 4,
 "nbformat_minor": 5
}
